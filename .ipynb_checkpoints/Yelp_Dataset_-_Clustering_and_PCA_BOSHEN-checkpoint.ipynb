{
 "cells": [
  {
   "cell_type": "markdown",
   "metadata": {},
   "source": [
    "# Yelp Data Challenge - Clustering and PCA\n",
    "\n",
    "Bo Shen\n",
    "\n",
    "Sep 2017"
   ]
  },
  {
   "cell_type": "code",
   "execution_count": 1,
   "metadata": {
    "collapsed": true
   },
   "outputs": [],
   "source": [
    "import pandas as pd\n",
    "import numpy as np\n",
    "import matplotlib.pyplot as plt\n",
    "% matplotlib inline\n",
    "plt.style.use(\"ggplot\")"
   ]
  },
  {
   "cell_type": "code",
   "execution_count": 2,
   "metadata": {
    "collapsed": true
   },
   "outputs": [],
   "source": [
    "df = pd.read_csv('data/last_2_years_restaurant_reviews.csv')"
   ]
  },
  {
   "cell_type": "code",
   "execution_count": 3,
   "metadata": {},
   "outputs": [
    {
     "data": {
      "text/html": [
       "<div>\n",
       "<style>\n",
       "    .dataframe thead tr:only-child th {\n",
       "        text-align: right;\n",
       "    }\n",
       "\n",
       "    .dataframe thead th {\n",
       "        text-align: left;\n",
       "    }\n",
       "\n",
       "    .dataframe tbody tr th {\n",
       "        vertical-align: top;\n",
       "    }\n",
       "</style>\n",
       "<table border=\"1\" class=\"dataframe\">\n",
       "  <thead>\n",
       "    <tr style=\"text-align: right;\">\n",
       "      <th></th>\n",
       "      <th>business_id</th>\n",
       "      <th>name</th>\n",
       "      <th>categories</th>\n",
       "      <th>avg_stars</th>\n",
       "      <th>cool</th>\n",
       "      <th>date</th>\n",
       "      <th>funny</th>\n",
       "      <th>review_id</th>\n",
       "      <th>stars</th>\n",
       "      <th>text</th>\n",
       "      <th>type</th>\n",
       "      <th>useful</th>\n",
       "      <th>user_id</th>\n",
       "    </tr>\n",
       "  </thead>\n",
       "  <tbody>\n",
       "    <tr>\n",
       "      <th>0</th>\n",
       "      <td>--9e1ONYQuAa-CB_Rrw7Tw</td>\n",
       "      <td>Delmonico Steakhouse</td>\n",
       "      <td>[Steakhouses, Restaurants, Cajun/Creole]</td>\n",
       "      <td>4.0</td>\n",
       "      <td>0</td>\n",
       "      <td>2015-06-26</td>\n",
       "      <td>0</td>\n",
       "      <td>nCqdz-NW64KazpxqnDr0sQ</td>\n",
       "      <td>1</td>\n",
       "      <td>I mainly went for the ceasar salad prepared ta...</td>\n",
       "      <td>review</td>\n",
       "      <td>0</td>\n",
       "      <td>0XVzm4kVIAaH4eQAxWbhvw</td>\n",
       "    </tr>\n",
       "    <tr>\n",
       "      <th>1</th>\n",
       "      <td>--9e1ONYQuAa-CB_Rrw7Tw</td>\n",
       "      <td>Delmonico Steakhouse</td>\n",
       "      <td>[Steakhouses, Restaurants, Cajun/Creole]</td>\n",
       "      <td>4.0</td>\n",
       "      <td>0</td>\n",
       "      <td>2015-06-29</td>\n",
       "      <td>0</td>\n",
       "      <td>iwx6s6yQxc7yjS7NFANZig</td>\n",
       "      <td>4</td>\n",
       "      <td>Nice atmosphere and wonderful service. I had t...</td>\n",
       "      <td>review</td>\n",
       "      <td>0</td>\n",
       "      <td>2aeNFntqY2QDZLADNo8iQQ</td>\n",
       "    </tr>\n",
       "    <tr>\n",
       "      <th>2</th>\n",
       "      <td>--9e1ONYQuAa-CB_Rrw7Tw</td>\n",
       "      <td>Delmonico Steakhouse</td>\n",
       "      <td>[Steakhouses, Restaurants, Cajun/Creole]</td>\n",
       "      <td>4.0</td>\n",
       "      <td>0</td>\n",
       "      <td>2015-04-05</td>\n",
       "      <td>0</td>\n",
       "      <td>2HrBENXZTiitcCJfzkELgA</td>\n",
       "      <td>2</td>\n",
       "      <td>To be honest it really quit aweful. First the ...</td>\n",
       "      <td>review</td>\n",
       "      <td>0</td>\n",
       "      <td>WFhv5pMJRDPWSyLnKiWFXA</td>\n",
       "    </tr>\n",
       "    <tr>\n",
       "      <th>3</th>\n",
       "      <td>--9e1ONYQuAa-CB_Rrw7Tw</td>\n",
       "      <td>Delmonico Steakhouse</td>\n",
       "      <td>[Steakhouses, Restaurants, Cajun/Creole]</td>\n",
       "      <td>4.0</td>\n",
       "      <td>0</td>\n",
       "      <td>2016-02-16</td>\n",
       "      <td>0</td>\n",
       "      <td>6YNPXoq41qTMZ2TEi0BYUA</td>\n",
       "      <td>2</td>\n",
       "      <td>The food was decent, but the service was defin...</td>\n",
       "      <td>review</td>\n",
       "      <td>0</td>\n",
       "      <td>2S6gWE-K3DHNcKYYSgN7xA</td>\n",
       "    </tr>\n",
       "    <tr>\n",
       "      <th>4</th>\n",
       "      <td>--9e1ONYQuAa-CB_Rrw7Tw</td>\n",
       "      <td>Delmonico Steakhouse</td>\n",
       "      <td>[Steakhouses, Restaurants, Cajun/Creole]</td>\n",
       "      <td>4.0</td>\n",
       "      <td>0</td>\n",
       "      <td>2016-02-08</td>\n",
       "      <td>1</td>\n",
       "      <td>4bQrVUiRZ642odcKCS0OhQ</td>\n",
       "      <td>2</td>\n",
       "      <td>If you're looking for craptastic service and m...</td>\n",
       "      <td>review</td>\n",
       "      <td>1</td>\n",
       "      <td>rCTVWx_Tws2jWi-K89iEyw</td>\n",
       "    </tr>\n",
       "  </tbody>\n",
       "</table>\n",
       "</div>"
      ],
      "text/plain": [
       "              business_id                  name  \\\n",
       "0  --9e1ONYQuAa-CB_Rrw7Tw  Delmonico Steakhouse   \n",
       "1  --9e1ONYQuAa-CB_Rrw7Tw  Delmonico Steakhouse   \n",
       "2  --9e1ONYQuAa-CB_Rrw7Tw  Delmonico Steakhouse   \n",
       "3  --9e1ONYQuAa-CB_Rrw7Tw  Delmonico Steakhouse   \n",
       "4  --9e1ONYQuAa-CB_Rrw7Tw  Delmonico Steakhouse   \n",
       "\n",
       "                                 categories  avg_stars  cool        date  \\\n",
       "0  [Steakhouses, Restaurants, Cajun/Creole]        4.0     0  2015-06-26   \n",
       "1  [Steakhouses, Restaurants, Cajun/Creole]        4.0     0  2015-06-29   \n",
       "2  [Steakhouses, Restaurants, Cajun/Creole]        4.0     0  2015-04-05   \n",
       "3  [Steakhouses, Restaurants, Cajun/Creole]        4.0     0  2016-02-16   \n",
       "4  [Steakhouses, Restaurants, Cajun/Creole]        4.0     0  2016-02-08   \n",
       "\n",
       "   funny               review_id  stars  \\\n",
       "0      0  nCqdz-NW64KazpxqnDr0sQ      1   \n",
       "1      0  iwx6s6yQxc7yjS7NFANZig      4   \n",
       "2      0  2HrBENXZTiitcCJfzkELgA      2   \n",
       "3      0  6YNPXoq41qTMZ2TEi0BYUA      2   \n",
       "4      1  4bQrVUiRZ642odcKCS0OhQ      2   \n",
       "\n",
       "                                                text    type  useful  \\\n",
       "0  I mainly went for the ceasar salad prepared ta...  review       0   \n",
       "1  Nice atmosphere and wonderful service. I had t...  review       0   \n",
       "2  To be honest it really quit aweful. First the ...  review       0   \n",
       "3  The food was decent, but the service was defin...  review       0   \n",
       "4  If you're looking for craptastic service and m...  review       1   \n",
       "\n",
       "                  user_id  \n",
       "0  0XVzm4kVIAaH4eQAxWbhvw  \n",
       "1  2aeNFntqY2QDZLADNo8iQQ  \n",
       "2  WFhv5pMJRDPWSyLnKiWFXA  \n",
       "3  2S6gWE-K3DHNcKYYSgN7xA  \n",
       "4  rCTVWx_Tws2jWi-K89iEyw  "
      ]
     },
     "execution_count": 3,
     "metadata": {},
     "output_type": "execute_result"
    }
   ],
   "source": [
    "df.head()"
   ]
  },
  {
   "cell_type": "markdown",
   "metadata": {},
   "source": [
    "## 1. Cluster the review text data for all the restaurants"
   ]
  },
  {
   "cell_type": "markdown",
   "metadata": {},
   "source": [
    "### Define feature variables"
   ]
  },
  {
   "cell_type": "code",
   "execution_count": 5,
   "metadata": {
    "collapsed": true
   },
   "outputs": [],
   "source": [
    "# Take the values of the column that contains review text data, save to a variable named \"documents\"\n",
    "documents = df['text'].values"
   ]
  },
  {
   "cell_type": "markdown",
   "metadata": {},
   "source": [
    "### Define target variable "
   ]
  },
  {
   "cell_type": "code",
   "execution_count": 8,
   "metadata": {
    "collapsed": true
   },
   "outputs": [],
   "source": [
    "# Make a column and take the values, save to a variable named \"target\"\n",
    "df['favorable']= df['stars'] > 4\n",
    "target = df['favorable'].values"
   ]
  },
  {
   "cell_type": "code",
   "execution_count": 11,
   "metadata": {},
   "outputs": [
    {
     "name": "stdout",
     "output_type": "stream",
     "text": [
      "0.46076595353\n",
      "0.498458312798\n"
     ]
    }
   ],
   "source": [
    "print target.mean()\n",
    "print target.std()"
   ]
  },
  {
   "cell_type": "markdown",
   "metadata": {},
   "source": [
    "### Create training dataset and test dataset"
   ]
  },
  {
   "cell_type": "code",
   "execution_count": 70,
   "metadata": {
    "collapsed": true
   },
   "outputs": [],
   "source": [
    "from sklearn.cross_validation import train_test_split\n",
    "documents_train, documetns_test, target_train, target_test = train_test_split(documents, target,\n",
    "test_size = 0.95, random_state = 42 )"
   ]
  },
  {
   "cell_type": "markdown",
   "metadata": {},
   "source": [
    "### Get NLP representation of the documents\n",
    "\n",
    "#### Fit TfidfVectorizer with training data only, then tranform all the data to tf-idf"
   ]
  },
  {
   "cell_type": "code",
   "execution_count": 13,
   "metadata": {
    "collapsed": true
   },
   "outputs": [],
   "source": [
    "from sklearn.feature_extraction.text import TfidfVectorizer"
   ]
  },
  {
   "cell_type": "code",
   "execution_count": 14,
   "metadata": {
    "collapsed": true
   },
   "outputs": [],
   "source": [
    "# Create TfidfVectorizer, and name it vectorizer, choose a reasonable max_features, e.g. 1000\n",
    "vectorizer = TfidfVectorizer(stop_words = 'english', max_features = 1000)"
   ]
  },
  {
   "cell_type": "code",
   "execution_count": 15,
   "metadata": {
    "collapsed": true
   },
   "outputs": [],
   "source": [
    "# Train the model with training data\n",
    "vectors_train = vectorizer.fit_transform(documents_train).toarray()"
   ]
  },
  {
   "cell_type": "code",
   "execution_count": 17,
   "metadata": {},
   "outputs": [
    {
     "data": {
      "text/plain": [
       "1000"
      ]
     },
     "execution_count": 17,
     "metadata": {},
     "output_type": "execute_result"
    }
   ],
   "source": [
    "# Get the vocab of tfidf\n",
    "words = vectorizer.get_feature_names()\n",
    "len(words)"
   ]
  },
  {
   "cell_type": "code",
   "execution_count": 16,
   "metadata": {
    "collapsed": true
   },
   "outputs": [],
   "source": [
    "# Use the trained model to transform all the reviews\n",
    "vectors_documents = vectorizer.transform(documents).toarray()"
   ]
  },
  {
   "cell_type": "markdown",
   "metadata": {},
   "source": [
    "### Cluster reviews with KMeans"
   ]
  },
  {
   "cell_type": "markdown",
   "metadata": {},
   "source": [
    "#### Fit k-means clustering with the training vectors and apply it on all the data"
   ]
  },
  {
   "cell_type": "code",
   "execution_count": 18,
   "metadata": {},
   "outputs": [
    {
     "data": {
      "text/plain": [
       "KMeans(algorithm='auto', copy_x=True, init='k-means++', max_iter=300,\n",
       "    n_clusters=8, n_init=10, n_jobs=1, precompute_distances='auto',\n",
       "    random_state=None, tol=0.0001, verbose=0)"
      ]
     },
     "execution_count": 18,
     "metadata": {},
     "output_type": "execute_result"
    }
   ],
   "source": [
    "# To be implemented\n",
    "from sklearn.cluster import KMeans\n",
    "kmeans = KMeans()\n",
    "kmeans.fit(vectors_train)"
   ]
  },
  {
   "cell_type": "markdown",
   "metadata": {},
   "source": [
    "#### Make predictions on all data"
   ]
  },
  {
   "cell_type": "code",
   "execution_count": 23,
   "metadata": {
    "collapsed": true
   },
   "outputs": [],
   "source": [
    "# To be implemented\n",
    "assigned_cluster = kmeans.predict(vectors_documents)"
   ]
  },
  {
   "cell_type": "markdown",
   "metadata": {},
   "source": [
    "#### Inspect the centroids\n",
    "To find out what \"topics\" Kmeans has discovered we must inspect the centroids. Print out the centroids of the Kmeans clustering.\n",
    "\n",
    "   These centroids are simply a bunch of vectors.  To make any sense of them we need to map these vectors back into our 'word space'.  Think of each feature/dimension of the centroid vector as representing the \"average\" review or the average occurances of words for that cluster."
   ]
  },
  {
   "cell_type": "code",
   "execution_count": 25,
   "metadata": {},
   "outputs": [
    {
     "name": "stdout",
     "output_type": "stream",
     "text": [
      "cluster centroids:\n",
      "(8L, 1000L)\n"
     ]
    }
   ],
   "source": [
    "# To be implemented\n",
    "print \"cluster centroids:\"\n",
    "print kmeans.cluster_centers_.shape"
   ]
  },
  {
   "cell_type": "markdown",
   "metadata": {},
   "source": [
    "#### Find the top 10 features for each cluster.\n",
    "For topics we are only really interested in the most present words, i.e. features/dimensions with the greatest representation in the centroid.  Print out the top ten words for each centroid.\n",
    "\n",
    "* Sort each centroid vector to find the top 10 features\n",
    "* Go back to vectorizer object to find out what words each of these features corresponds to.\n"
   ]
  },
  {
   "cell_type": "code",
   "execution_count": 27,
   "metadata": {},
   "outputs": [
    {
     "name": "stdout",
     "output_type": "stream",
     "text": [
      "Cluster 1: food order minutes time service just got came table asked\n",
      "Cluster 2: chicken fried rice food good thai ordered place sauce great\n",
      "Cluster 3: burger fries burgers good cheese place food shake great just\n",
      "Cluster 4: good food really place service pretty nice like time just\n",
      "Cluster 5: food place vegas best amazing delicious love service like just\n",
      "Cluster 6: pizza crust place great good best slice cheese just pizzas\n",
      "Cluster 7: great food service place amazing awesome friendly love good time\n",
      "Cluster 8: sushi place roll rolls great ayce fresh good eat service\n"
     ]
    }
   ],
   "source": [
    "n_feat = 10\n",
    "top_features_idx = kmeans.cluster_centers_.argsort()[:, -1:-n_feat-1:-1]\n",
    "for i, idx in enumerate(top_features_idx):\n",
    "    print \"Cluster %i: %s\" % (i + 1, \" \".join(words[j] for j in idx))"
   ]
  },
  {
   "cell_type": "markdown",
   "metadata": {},
   "source": [
    "#### Try different k"
   ]
  },
  {
   "cell_type": "code",
   "execution_count": null,
   "metadata": {
    "collapsed": true
   },
   "outputs": [],
   "source": [
    "# To be implemented\n",
    "kmeans = KMeans(n_clusters = 6)\n",
    "kmeans.fit(vectors_train)"
   ]
  },
  {
   "cell_type": "markdown",
   "metadata": {},
   "source": [
    "#### Print out the rating and review of a random sample of the reviews assigned to each cluster to get a sense of the cluster."
   ]
  },
  {
   "cell_type": "code",
   "execution_count": 28,
   "metadata": {},
   "outputs": [
    {
     "name": "stdout",
     "output_type": "stream",
     "text": [
      "----------\n",
      "Cluster 0:\n",
      "    5 -  I am a huge proponent of shopping locally, and this includes my quests for good food in hidden away places.  This is why stumbling across (OK stumbling isn't quite right, Google Maps helped and I won't eat breakfast on the strip) this gem of a greasy spoon.  I say hidden because it is off Decatur snuggled in behind a Taco Bell.\r\n",
      "\r\n",
      "When I first walked in the door I was warmly greeted and took a seat at the counter, which is my favorite spot when dining alone.  My waitress' name was Renee who greeted me with hot coffee and a menu and suggested that I make sure to read the history of the joint on the back of the menu; which kicked off my sense of nostalgia because I love stuff like that.\r\n",
      "\r\n",
      "I ordered my staple of eggs over easy, hash browns with white toast and the ham steak.  my order came out perfect (so many places overcook the eggs) and it was delicious.  In fact there was more food than I knew what to do with and this from a guy who is 6' 3\" and clocking in at 218 lbs.\r\n",
      "\r\n",
      "If I had any room left, I would have had a slice of that pink double layer cake that was so high that it took two people to slice a piece and juggle it in one piece onto a plate for a customer.  I am still thinking about that cake 24 hours later.\r\n",
      "\r\n",
      "So back to the history of the joint.  Lou's diner has changed hands a couple of times over the many decades and has remained in some way or fashion in the family of the original owners.  Until this last December.  This is when a new couple (I am so sorry I totally forgot their names, but they were so nice) just starting out their lives together bought the joint.\r\n",
      "\r\n",
      "When a place I like changes hands, it usually suffers an identity crisis as the new owners try to put their own stamp on it and make it better.  THANKFULLY, this couple understand what Lou's is and who their customers are....  And have kept it the way it should be.\r\n",
      "\r\n",
      "That hidden away gem, that serves great food in a setting that I will be visiting again and again when I come back into town.\n",
      "    1 -  Bad coffee..ruined my breakfast which is d most important meal of my day!! If i can can no star at all! The food was late n i have to change it to toast only. But the waiter Derrick is great n try to make things better. I gv 5 stars onlyy to him! \r\n",
      "The food came after one hour! So bad!!!\n",
      "\n",
      "----------\n",
      "Cluster 1:\n",
      "    4 -  So i decided to order delivery on my day off. I ordered a papaya salad with dried shrimp, chili lime noodles, and roasted duck curry. My favorite was the roasted duck curry, although i asked for a 8 and i didnt feel any type of heat. The chili lime noodles were average, and the papaya salad with dried shrim was very tasteful but not as spicy as i requested. But overall, great food and FAST delievery.\n",
      "    4 -  love their chow mein and orange chicken. flavorful and the wait is never long. This is our go to Chinese food place in our area. We have tried others and they are terrible. So now we stick with the china a go go.\n",
      "\n",
      "----------\n",
      "Cluster 2:\n",
      "    4 -  Grand Lux Cafe is the bomb!!!\r\n",
      "\r\n",
      "Let me tell you why.....\r\n",
      "\r\n",
      "1)  24/7!  It's open all day long!  Great food and open all the time... nothing beats that!\r\n",
      "\r\n",
      "2)  Truffle burger!  OMG!  First time having this burger and it was out of this world!  Huge patty of beff topped with mushroom after mushroom!  And not to mention the truffle aioli!  So good!!!  Probably one of the best \"Mushroom Burgers\" I've ever had!\r\n",
      "\r\n",
      "3)  Calamari/rock shrimp appetizer!  This is one of the reasons why I return to Grand Lux Cafe!  Such a big portion for less than $15!  Comes with super generous portion of calamari, shrimp, zucchini, and onions!  It's just so delicious!\r\n",
      "\r\n",
      "Just a couple of \"could be improved\" points....\r\n",
      "\r\n",
      "1)  Iced tea:  They have the normal kind... unlike Cheesecake factory, they don't have the tropical iced tea.... they really should have this....\r\n",
      "\r\n",
      "2)  Service is inconsistent...  We had a nice waitress then she has to leave for her shift... then the person who took over for her was no where to be found... although she was nice as well but it takes forever to get service and attention of the 2nd waitress.... they will need to improve on this....\r\n",
      "\r\n",
      "If you are looking for a solid food place in Vegas anytime of the day not name Denny's... Grand Lux Cafe is a terrific choice to be at!  (Available in both Venetian and Palazzo!)\n",
      "    4 -  Flew into Vegas for the weekend and this was our first official stop for lunch.  It is super close to the airport... I think you can walk there if you wanted to (0.25 miles) but it was convenient since we exited out of the rental car deck and found ourselves on the same street.\r\n",
      "\r\n",
      "I ordered a lunch special burger... 1/2 Angus jalapeno burger with all the toppings... was tasty and filling.  Their \"skinny\" fries are a bit of a mis-nomer since I automatically think of a lower calorie french fry (that tastes like card board) but these are just skinny in shape.  I think I usually see them called shoestring fries.\r\n",
      "\r\n",
      "Servers were friendly and accommodating... especially after I ordered a beer at 10am.... no judgments were hashed out.  I would definitely come here again... especially since this place is open 24hrs.... but I would question my need to come here at 3 or 4am. :)\n",
      "\n",
      "----------\n",
      "Cluster 3:\n",
      "    5 -  I have eaten at most of the buffets on the strip. Comparing price, food quality , average wait time, and service,  bellagio came up number one.\r\n",
      "These are the reason.\r\n",
      "Wait time is about 30 min, compare to 2 hours at Cesar palace. \r\n",
      "Half the price and you still get pretty good selection of seafood and sushi. Sure, you don't see much fillers, but I am here for crabs and steaks. And both are pretty good here.\r\n",
      "Service is better than most places.\n",
      "    4 -  I am new to Vegas and was craving Mexican food.  Decided to try Casa Don Juan at 1780 N Buffalo.   This restaurant is on a bus route and easy to get to.   The service was excellent.  The food was good and the atmosphere was great.   I noticed that they make their own tortillas.   I am from Texas and really miss Tex-Mex.   The food here was good but not as good as what I can get in Houston.   I will definitely be back.\n",
      "\n",
      "----------\n",
      "Cluster 4:\n",
      "    5 -  Gosh, I love this place!\r\n",
      "\r\n",
      "Whenever I stay at the Wynn/Encore and I want a delicious meal in a casual spot, this is where I go.  It's located right off of the main casino floor, serves food for early breakfast, brunch, lunch and late dinner.  The atmosphere is very upscale while remaining a casual spot (i.e. you can show up in shorts and tees and catch ESPN on the TVs scattered throughout the bar and dining room).\r\n",
      "\r\n",
      "The menu is American classic by design, and on previous visits, I've ordered everything from fresh fruit and a three egg freestyle breakfast, to turkey clubs and filet mignon sliders.  They have a lot of selections for breakfast, sandwiches, burgers, salads and a wide variety of entree options for dinner.  Every dish I have ordered has been very, very good.  They use quality ingredients and give you good sized portions.  And the service has always been super friendly and helpful.\r\n",
      "\r\n",
      "On my most recent visit, they replaced the filet mignon sliders with french dip sliders, so I ordered those.  O M G!  These are amazing.  The beef just melts in your mouth and the slider buns are perfectly toasted.  These are a DREAM!\r\n",
      "\r\n",
      "If you're a dessert fan (like me) you will love the XXXL Chocolate cake (caution: it serves like 3 people) and the fresh, warm donuts!\r\n",
      "\r\n",
      "Overall, if you're staying at the Wynn/Encore or just visiting the resort, definitely make this a stop.\r\n",
      "\r\n",
      "Iced tea rating: 4 stars!  Delicious tea and plenty o' refills!\r\n",
      "\r\n",
      "PS - Did I tell you that they serve warm mini pretzel breads at the table?  OMG yum!\n",
      "    5 -  Celebrating our March birthday's with dinner and then show.. Jersey Boys. Food and service was outstanding! Especially loved the salmon and our desserts.\n",
      "\n",
      "----------\n",
      "Cluster 5:\n",
      "    5 -  Excellent.  Had burger and fries and both were awesome.  Also ordered a pepperoni pizza.  Perfect NY style pizza.  Only problem was I ordered more than I could eat.  For the price, I expected much smaller portions but the bacon burger was huge and came with a ton of fries.  That was more than enough for my meal but adding the pizza was going overboard. It was so good that I tried my best to finish it all.  Oh well, the pizza will be a great leftover snack. Also I want to add that the delivery driver was nice and friendly.  Very polite.  Overall a great experience.\n",
      "    4 -  We order from Alexander's Pizza roughly twice a week.  They are consistently tasty...  And, fairly priced.  We're especially partial to the pizza, Philly's, fingers and burgers.  The wife absolutely LOVES their ranch dressing...  However, I find it to be extremely heavy on the garlic.\n",
      "\n",
      "----------\n",
      "Cluster 6:\n",
      "    4 -  Nice to find a place close to the strip where you can get a great breakfast and not be treated or charged like a tourist.\n",
      "    5 -  Fabulous food with great decor.  Have tried 3 different dishes and they were all fantastic!  Recommended!\n",
      "\n",
      "----------\n",
      "Cluster 7:\n",
      "    4 -  Delicious sushi burritos. Interesting flavor combos I wouldn't otherwise try or think would work. Yummy!\n",
      "    5 -  Great place to meet up with friends or even for late night dinner. I went to a concert and even had time to go to this place afterwards. They close late and offer good quality sushi! I keep coming back when I'm in Vegas!\n",
      "\n"
     ]
    },
    {
     "name": "stderr",
     "output_type": "stream",
     "text": [
      "C:\\Users\\Bo\\Anaconda3\\envs\\py27\\lib\\site-packages\\ipykernel_launcher.py:8: DeprecationWarning: \n",
      ".ix is deprecated. Please use\n",
      ".loc for label based indexing or\n",
      ".iloc for positional indexing\n",
      "\n",
      "See the documentation here:\n",
      "http://pandas.pydata.org/pandas-docs/stable/indexing.html#ix-indexer-is-deprecated\n",
      "  \n"
     ]
    }
   ],
   "source": [
    "# To be implemented\n",
    "for i in range(kmeans.n_clusters):\n",
    "    cluster = np.arange(0, vectors_documents.shape[0])[assigned_cluster==i] # index of cluster\n",
    "    sample_reviews = np.random.choice(cluster, 2, replace=False)\n",
    "    print \"-\" * 10\n",
    "    print \"Cluster %d:\" % i\n",
    "    for review_index in sample_reviews:\n",
    "        print \"    %s - \" % df.ix[review_index,'stars'],\n",
    "        print \"%s\" % df.ix[review_index, 'text']\n",
    "    print"
   ]
  },
  {
   "cell_type": "markdown",
   "metadata": {},
   "source": [
    "## 2. Cluster all the reviews of the most reviewed restaurant\n",
    "Let's find the most reviewed restaurant and analyze its reviews"
   ]
  },
  {
   "cell_type": "code",
   "execution_count": 4,
   "metadata": {},
   "outputs": [
    {
     "name": "stdout",
     "output_type": "stream",
     "text": [
      "hihud--QRriCYZw1zZvW4g\n"
     ]
    },
    {
     "data": {
      "text/html": [
       "<div>\n",
       "<style>\n",
       "    .dataframe thead tr:only-child th {\n",
       "        text-align: right;\n",
       "    }\n",
       "\n",
       "    .dataframe thead th {\n",
       "        text-align: left;\n",
       "    }\n",
       "\n",
       "    .dataframe tbody tr th {\n",
       "        vertical-align: top;\n",
       "    }\n",
       "</style>\n",
       "<table border=\"1\" class=\"dataframe\">\n",
       "  <thead>\n",
       "    <tr style=\"text-align: right;\">\n",
       "      <th></th>\n",
       "      <th>index</th>\n",
       "      <th>business_id</th>\n",
       "      <th>name</th>\n",
       "      <th>categories</th>\n",
       "      <th>avg_stars</th>\n",
       "      <th>cool</th>\n",
       "      <th>date</th>\n",
       "      <th>funny</th>\n",
       "      <th>review_id</th>\n",
       "      <th>stars</th>\n",
       "      <th>text</th>\n",
       "      <th>type</th>\n",
       "      <th>useful</th>\n",
       "      <th>user_id</th>\n",
       "    </tr>\n",
       "  </thead>\n",
       "  <tbody>\n",
       "    <tr>\n",
       "      <th>0</th>\n",
       "      <td>258158</td>\n",
       "      <td>hihud--QRriCYZw1zZvW4g</td>\n",
       "      <td>Gangnam Asian BBQ Dining</td>\n",
       "      <td>[Korean, Japanese, Restaurants, Tapas/Small Pl...</td>\n",
       "      <td>4.5</td>\n",
       "      <td>0</td>\n",
       "      <td>2016-10-01</td>\n",
       "      <td>0</td>\n",
       "      <td>xgeXscn1gdG5I9w-p2tqig</td>\n",
       "      <td>5</td>\n",
       "      <td>Excellent food with great service that's near ...</td>\n",
       "      <td>review</td>\n",
       "      <td>1</td>\n",
       "      <td>mtGw8bQTQToVR_1KWD7F7A</td>\n",
       "    </tr>\n",
       "    <tr>\n",
       "      <th>1</th>\n",
       "      <td>258159</td>\n",
       "      <td>hihud--QRriCYZw1zZvW4g</td>\n",
       "      <td>Gangnam Asian BBQ Dining</td>\n",
       "      <td>[Korean, Japanese, Restaurants, Tapas/Small Pl...</td>\n",
       "      <td>4.5</td>\n",
       "      <td>0</td>\n",
       "      <td>2016-08-20</td>\n",
       "      <td>0</td>\n",
       "      <td>jHeg2v19v4RsN2UnDlCsFQ</td>\n",
       "      <td>5</td>\n",
       "      <td>We were in town for the weekend and really enj...</td>\n",
       "      <td>review</td>\n",
       "      <td>0</td>\n",
       "      <td>RVGxGRTnVOeCLMPT4JAYuw</td>\n",
       "    </tr>\n",
       "    <tr>\n",
       "      <th>2</th>\n",
       "      <td>258160</td>\n",
       "      <td>hihud--QRriCYZw1zZvW4g</td>\n",
       "      <td>Gangnam Asian BBQ Dining</td>\n",
       "      <td>[Korean, Japanese, Restaurants, Tapas/Small Pl...</td>\n",
       "      <td>4.5</td>\n",
       "      <td>0</td>\n",
       "      <td>2015-05-23</td>\n",
       "      <td>0</td>\n",
       "      <td>Gd26BHrDr-6uh2nyA8q5TQ</td>\n",
       "      <td>5</td>\n",
       "      <td>Yum yum yum this place is so good I love every...</td>\n",
       "      <td>review</td>\n",
       "      <td>0</td>\n",
       "      <td>q4DPOg5VPygvIEqWbvT8FA</td>\n",
       "    </tr>\n",
       "    <tr>\n",
       "      <th>3</th>\n",
       "      <td>258161</td>\n",
       "      <td>hihud--QRriCYZw1zZvW4g</td>\n",
       "      <td>Gangnam Asian BBQ Dining</td>\n",
       "      <td>[Korean, Japanese, Restaurants, Tapas/Small Pl...</td>\n",
       "      <td>4.5</td>\n",
       "      <td>1</td>\n",
       "      <td>2015-11-21</td>\n",
       "      <td>1</td>\n",
       "      <td>UtE7cxs402ZeuXJbjVTB9g</td>\n",
       "      <td>5</td>\n",
       "      <td>We came here for happy hour and I was starving...</td>\n",
       "      <td>review</td>\n",
       "      <td>3</td>\n",
       "      <td>h_c7PjnpUnF_-LAegBv7CA</td>\n",
       "    </tr>\n",
       "    <tr>\n",
       "      <th>4</th>\n",
       "      <td>258162</td>\n",
       "      <td>hihud--QRriCYZw1zZvW4g</td>\n",
       "      <td>Gangnam Asian BBQ Dining</td>\n",
       "      <td>[Korean, Japanese, Restaurants, Tapas/Small Pl...</td>\n",
       "      <td>4.5</td>\n",
       "      <td>0</td>\n",
       "      <td>2016-04-15</td>\n",
       "      <td>0</td>\n",
       "      <td>5InDLk1xQJmg6IqLcowW4Q</td>\n",
       "      <td>5</td>\n",
       "      <td>Service was great very attentive staff. Food w...</td>\n",
       "      <td>review</td>\n",
       "      <td>0</td>\n",
       "      <td>K_kaV4WlOr2RxGUxNuwdqA</td>\n",
       "    </tr>\n",
       "  </tbody>\n",
       "</table>\n",
       "</div>"
      ],
      "text/plain": [
       "    index             business_id                      name  \\\n",
       "0  258158  hihud--QRriCYZw1zZvW4g  Gangnam Asian BBQ Dining   \n",
       "1  258159  hihud--QRriCYZw1zZvW4g  Gangnam Asian BBQ Dining   \n",
       "2  258160  hihud--QRriCYZw1zZvW4g  Gangnam Asian BBQ Dining   \n",
       "3  258161  hihud--QRriCYZw1zZvW4g  Gangnam Asian BBQ Dining   \n",
       "4  258162  hihud--QRriCYZw1zZvW4g  Gangnam Asian BBQ Dining   \n",
       "\n",
       "                                          categories  avg_stars  cool  \\\n",
       "0  [Korean, Japanese, Restaurants, Tapas/Small Pl...        4.5     0   \n",
       "1  [Korean, Japanese, Restaurants, Tapas/Small Pl...        4.5     0   \n",
       "2  [Korean, Japanese, Restaurants, Tapas/Small Pl...        4.5     0   \n",
       "3  [Korean, Japanese, Restaurants, Tapas/Small Pl...        4.5     1   \n",
       "4  [Korean, Japanese, Restaurants, Tapas/Small Pl...        4.5     0   \n",
       "\n",
       "         date  funny               review_id  stars  \\\n",
       "0  2016-10-01      0  xgeXscn1gdG5I9w-p2tqig      5   \n",
       "1  2016-08-20      0  jHeg2v19v4RsN2UnDlCsFQ      5   \n",
       "2  2015-05-23      0  Gd26BHrDr-6uh2nyA8q5TQ      5   \n",
       "3  2015-11-21      1  UtE7cxs402ZeuXJbjVTB9g      5   \n",
       "4  2016-04-15      0  5InDLk1xQJmg6IqLcowW4Q      5   \n",
       "\n",
       "                                                text    type  useful  \\\n",
       "0  Excellent food with great service that's near ...  review       1   \n",
       "1  We were in town for the weekend and really enj...  review       0   \n",
       "2  Yum yum yum this place is so good I love every...  review       0   \n",
       "3  We came here for happy hour and I was starving...  review       3   \n",
       "4  Service was great very attentive staff. Food w...  review       0   \n",
       "\n",
       "                  user_id  \n",
       "0  mtGw8bQTQToVR_1KWD7F7A  \n",
       "1  RVGxGRTnVOeCLMPT4JAYuw  \n",
       "2  q4DPOg5VPygvIEqWbvT8FA  \n",
       "3  h_c7PjnpUnF_-LAegBv7CA  \n",
       "4  K_kaV4WlOr2RxGUxNuwdqA  "
      ]
     },
     "execution_count": 4,
     "metadata": {},
     "output_type": "execute_result"
    }
   ],
   "source": [
    "# Find the business who got most reviews, get filtered df, name it df_top_restaurant\n",
    "most_reviewed_restaurant = df['business_id'].value_counts().index[0]\n",
    "print most_reviewed_restaurant\n",
    "df_top_restaurant = df[df['business_id'] ==most_reviewed_restaurant].copy().reset_index()\n",
    "\n",
    "# display head \n",
    "df_top_restaurant.head()"
   ]
  },
  {
   "cell_type": "markdown",
   "metadata": {},
   "source": [
    "We can also load restaurant profile information from the business dataset (optional)"
   ]
  },
  {
   "cell_type": "code",
   "execution_count": null,
   "metadata": {
    "collapsed": true
   },
   "outputs": [],
   "source": [
    "# Load business dataset (optional)\n",
    "# Take a look at the most reviewed restaurant's profile (optional)\n",
    "df_business[df_top_restaurant['business_id'][0]]"
   ]
  },
  {
   "cell_type": "markdown",
   "metadata": {},
   "source": [
    "### Vectorize the text feature"
   ]
  },
  {
   "cell_type": "code",
   "execution_count": 6,
   "metadata": {
    "collapsed": true
   },
   "outputs": [],
   "source": [
    "# Take the values of the column that contains review text data, save to a variable named \"documents_top_restaurant\"\n",
    "documents_top_restaurant = df_top_restaurant['text'].values"
   ]
  },
  {
   "cell_type": "markdown",
   "metadata": {},
   "source": [
    "#### Define target variable (for later classification use)"
   ]
  },
  {
   "cell_type": "markdown",
   "metadata": {},
   "source": [
    "#### Again, we look at perfect (5 stars) and imperfect (1-4 stars) rating"
   ]
  },
  {
   "cell_type": "code",
   "execution_count": 7,
   "metadata": {
    "collapsed": true
   },
   "outputs": [],
   "source": [
    "# To be implemented\n",
    "df_top_restaurant['favorable'] = map(int, df_top_restaurant.stars > 4)\n",
    "target_top_restaurant = df_top_restaurant.favorable"
   ]
  },
  {
   "cell_type": "markdown",
   "metadata": {},
   "source": [
    "#### Check the statistic of the target variable"
   ]
  },
  {
   "cell_type": "code",
   "execution_count": 8,
   "metadata": {},
   "outputs": [
    {
     "name": "stdout",
     "output_type": "stream",
     "text": [
      "0.764632627646\n",
      "0.424281048191\n",
      "(4015L,)\n"
     ]
    }
   ],
   "source": [
    "# To be implemented\n",
    "print target_top_restaurant.mean()\n",
    "print target_top_restaurant.std()\n",
    "print target_top_restaurant.shape"
   ]
  },
  {
   "cell_type": "markdown",
   "metadata": {},
   "source": [
    "### Create training dataset and test dataset"
   ]
  },
  {
   "cell_type": "code",
   "execution_count": 10,
   "metadata": {},
   "outputs": [
    {
     "name": "stderr",
     "output_type": "stream",
     "text": [
      "C:\\Users\\Bo\\Anaconda3\\envs\\py27\\lib\\site-packages\\sklearn\\cross_validation.py:41: DeprecationWarning: This module was deprecated in version 0.18 in favor of the model_selection module into which all the refactored classes and functions are moved. Also note that the interface of the new CV iterators are different from that of this module. This module will be removed in 0.20.\n",
      "  \"This module will be removed in 0.20.\", DeprecationWarning)\n"
     ]
    }
   ],
   "source": [
    "from sklearn.cross_validation import train_test_split"
   ]
  },
  {
   "cell_type": "code",
   "execution_count": 15,
   "metadata": {
    "collapsed": true
   },
   "outputs": [],
   "source": [
    "# documents_top_restaurant is X, target_top_restaurant is y\n",
    "# Now split the data to training set and test set\n",
    "# Now data is smaller, you can use a typical \"test_size\", e.g. 0.3-0.7\n",
    "X_train, X_test, y_train, y_test = train_test_split(documents_top_restaurant, target_top_restaurant,\n",
    "test_size = 0.7, random_state = 42 )"
   ]
  },
  {
   "cell_type": "markdown",
   "metadata": {},
   "source": [
    "### Get NLP representation of the documents"
   ]
  },
  {
   "cell_type": "code",
   "execution_count": 12,
   "metadata": {
    "collapsed": true
   },
   "outputs": [],
   "source": [
    "from sklearn.feature_extraction.text import TfidfVectorizer"
   ]
  },
  {
   "cell_type": "code",
   "execution_count": 13,
   "metadata": {
    "collapsed": true
   },
   "outputs": [],
   "source": [
    "# Create TfidfVectorizer, and name it vectorizer\n",
    "vectorizer = TfidfVectorizer(stop_words = \"english\", max_features = 10000)"
   ]
  },
  {
   "cell_type": "code",
   "execution_count": 16,
   "metadata": {
    "collapsed": true
   },
   "outputs": [],
   "source": [
    "# Train the model with training data\n",
    "vectors_train = vectorizer.fit_transform(X_train).toarray()"
   ]
  },
  {
   "cell_type": "code",
   "execution_count": 17,
   "metadata": {
    "collapsed": true
   },
   "outputs": [],
   "source": [
    "# Get the vocab of tfidf\n",
    "words = vectorizer.get_feature_names()"
   ]
  },
  {
   "cell_type": "code",
   "execution_count": 18,
   "metadata": {
    "collapsed": true
   },
   "outputs": [],
   "source": [
    "# Use the trained model to transform the test data\n",
    "vector_test = vectorizer.transform(X_test).toarray()"
   ]
  },
  {
   "cell_type": "code",
   "execution_count": 19,
   "metadata": {
    "collapsed": true
   },
   "outputs": [],
   "source": [
    "# Use the trained model to transform all the data\n",
    "vector_documents_top_restaurant = vectorizer.transform(documents_top_restaurant).toarray()"
   ]
  },
  {
   "cell_type": "markdown",
   "metadata": {},
   "source": [
    "### Cluster reviews with KMeans"
   ]
  },
  {
   "cell_type": "markdown",
   "metadata": {},
   "source": [
    "#### Fit k-means clustering on the training vectors and make predictions on all data"
   ]
  },
  {
   "cell_type": "code",
   "execution_count": 20,
   "metadata": {},
   "outputs": [
    {
     "data": {
      "text/plain": [
       "KMeans(algorithm='auto', copy_x=True, init='k-means++', max_iter=300,\n",
       "    n_clusters=6, n_init=10, n_jobs=1, precompute_distances='auto',\n",
       "    random_state=None, tol=0.0001, verbose=0)"
      ]
     },
     "execution_count": 20,
     "metadata": {},
     "output_type": "execute_result"
    }
   ],
   "source": [
    "from sklearn.cluster import KMeans\n",
    "\n",
    "kmeans = KMeans(n_clusters = 6)\n",
    "kmeans.fit(vectors_train)"
   ]
  },
  {
   "cell_type": "markdown",
   "metadata": {},
   "source": [
    "#### Make predictions on all data"
   ]
  },
  {
   "cell_type": "code",
   "execution_count": 21,
   "metadata": {
    "collapsed": true
   },
   "outputs": [],
   "source": [
    "# To be implemented\n",
    "assigned_cluster = kmeans.predict(vector_documents_top_restaurant)"
   ]
  },
  {
   "cell_type": "markdown",
   "metadata": {},
   "source": [
    "#### Inspect the centroids"
   ]
  },
  {
   "cell_type": "code",
   "execution_count": 65,
   "metadata": {},
   "outputs": [
    {
     "name": "stdout",
     "output_type": "stream",
     "text": [
      "cluster centers:\n",
      "(6L, 3385L)\n"
     ]
    }
   ],
   "source": [
    "# To be implemented\n",
    "print \"cluster centers:\"\n",
    "print kmeans.cluster_centers_.shape\n"
   ]
  },
  {
   "cell_type": "markdown",
   "metadata": {},
   "source": [
    "#### Find the top 10 features for each cluster."
   ]
  },
  {
   "cell_type": "code",
   "execution_count": 66,
   "metadata": {},
   "outputs": [
    {
     "name": "stdout",
     "output_type": "stream",
     "text": [
      "Cluster 1: food time wait meat place service bbq korean delicious amazing\n",
      "Cluster 2: good really food place meat service beef bbq korean quality\n",
      "Cluster 3: happy hour great food good place time service come bulgogi\n",
      "Cluster 4: great food service place meat come definitely amazing recommend delicious\n",
      "Cluster 5: spicy pork belly chicken korean good tuna great beef food\n",
      "Cluster 6: vegas best korean bbq las ve food great come place\n"
     ]
    }
   ],
   "source": [
    "n_feat = 10\n",
    "top_features_idx = kmeans.cluster_centers_.argsort()[:, -1:-n_feat-1:-1]\n",
    "for i, idx in enumerate(top_features_idx):\n",
    "    print \"Cluster %i: %s\" % (i + 1, \" \".join(words[j] for j in idx))"
   ]
  },
  {
   "cell_type": "markdown",
   "metadata": {},
   "source": [
    "#### Print out the rating and review of a random sample of the reviews assigned to each cluster to get a sense of the cluster."
   ]
  },
  {
   "cell_type": "code",
   "execution_count": 69,
   "metadata": {},
   "outputs": [
    {
     "name": "stdout",
     "output_type": "stream",
     "text": [
      "----------\n",
      "Cluster 0:\n",
      "    5 -  My first time trying out Ethiopian restaurant, a friend raved about it, so I decided to go for it. \r\n",
      "\r\n",
      " First tip- research what you are getting into. I'm an adventurous eater, but I don't like breaking protocol so I looked up some videos about eating Ethiopian food and was really warmed by the concept of family truly sharing a meal. Long story short- you eat with your hands, rolling bits of food into pieces you tear off a giant sourdough pancake- injera. And apparently it's totally ok to enthusiastically shove food down your loved ones throats and they have to be ok with it, or you can act hurt for the rest of the evening. \r\n",
      "\r\n",
      " So the way it goes is, your food will arrive on a platter. If you order multiple things, they will still arrive on the same plate, so don't go in there saying- Bobby will have chicken and Ruby Sue will have ground beef tar tar. Coordinate. Act as a considerate, caring unit. Agree on a few things everyone wants to eat, and order. You'll be cooperatively eating it off the same plate with your hands anyway. \r\n",
      " The flavors, in my opinion, have universal appeal. Nothing super weird or terribly spicy,  something for everyone, and they will gladly cook your food the way you like. We always get vegetable platter (spinach is the best) and either fish or beef.\r\n",
      " The portions are enormous. I've been there twice and both times ended up with giant to go containers at the end. Prices are also incredibly reasonable. \r\n",
      " Liquor left some to be desired. Beer choices are \"light or dark\", all bottles. Mercifully, they have Ethiopian beer, so at least you don't feel like you are better off in the liquor aisle at your local grocery store. I like different! \r\n",
      " There are some quirks. At the end of the day, it's an ethnic cuisine experience with much of clientele being Ethiopian patrons. Some people said incense smell was strong- I didn't even notice it. My family griped about bathroom cleanliness and the fact that they had no wet napkins provided at the beginning of the meal. Yes, that's a miss. I told them to lick themselves clean. \r\n",
      " The decor is very casual eatery like, which is fine by me, but don't expect plush couches, silk curtains and belly dancers. It's a family place. Speaking of family, I visited again, this  time with my 11 year olds. Because I like showing them different cultures, and I thought they'd get a kick out of eating with their hands. It went well, my son actually enjoyed it more than my daughter, who's a fussier eater.\r\n",
      "\r\n",
      " There's also an elaborate coffee ceremony, according so some accounts, but I chose beer ceremony instead. \r\n",
      "\r\n",
      " Altogether, a fun experience worth checking out. The world doesn't run on \"build your own pizza\" alone.\n",
      "    5 -  First, I'd like to say I'm a California local, and I LOVE In-N-Out. Favorite burger place ever. I've been to many locations in California and have eaten in Nevada a couple times when I visited relatives in Las Vegas.\r\n",
      "\r\n",
      "But this is the first time I'm reviewing an In-N-Out, because the service here really impressed me.\r\n",
      "\r\n",
      "I was sitting eating my order, and I noticed an elderly man and his son had sat down at the table next to us. They had finished ordering and gathering their drinks, and the son had left to go to the restroom. There was a worker, her name was Kim, who had noticed that their order was finished and was called a few times. The son wasn't there and I dont believe the elderly man had heard through the general noise. I looked up and I saw she had looked for the elderly man and went out of her way to give him his food. \r\n",
      "\r\n",
      "I thought this was just, genuinely really really great, especially with the general madness of how In-N-Out usually is. And ESPECIALLY considering how it was extra packed due to it being Black Friday. I don't really find or see that kind of service around, and I know it's small, but I thought it was thoughtful and great and was worth mentioning on a holiday that's become notorious for being crazy in the US (all those videos of crazy Black Friday shoppers you know). \r\n",
      "\r\n",
      "And as always, the food was delicious.\r\n",
      "\r\n",
      "Five stars for this service, the service of all the other workers (everyone was genuinely nice and helpful), and for awesome food!\n",
      "\n",
      "----------\n",
      "Cluster 1:\n",
      "    5 -  Favorite thai place in town.  Always great service.  Have neber sat inside it is always packed.  I really like the back yard type outdoor dining in back.  The 3 color curry is amazing.\n",
      "    5 -  My favorite Thai food in town. There is a wait a lot of the time but it is so worth it. Aside from the great food, the staff is amazing. Ashley is awesome! I have a hard time getting my food spicy at most places but they always get my food just the way I like.\n",
      "\n",
      "----------\n",
      "Cluster 2:\n",
      "    5 -  What a feast! We had the veggie sampler with extra grape leaves. Enough for 2 people! The hummus is amazing and the grape leaves are fantastic. The pita is warm and soft and perfect! The cucumber water is very refreshing. We can't wait to come back!\n",
      "    5 -  went here after a long day of working and was just looking for a quick bite with my room mates since we all hadn't gone here since we were small and have been getting tired of bad service at our local ihop... service was WONDERFUL here. sedelia paid close attention to us and what we asked for and our food came out of the kitchen tasting great! the menu is seriously huge, even a picky eater could find something they'd love in this menu. definitely will be coming back, we just don't get good service like this anywhere else.\n",
      "\n",
      "----------\n",
      "Cluster 3:\n",
      "    3 -  Phone-in To-go order review:\r\n",
      "\r\n",
      "They could have better coordination around to-go order and pick-up window operation.\r\n",
      "\r\n",
      "Food is awesome. My tofu pad thai was saucy, spicy, full of flavors and textures. Portion size is normal.\n",
      "    3 -  Holy crap, it was how much?! Sure, I liked the food there but in the future I think I will save my money and grab a cheaper slice of pizza at one of the fast food joints. I should have known it wasn't going to be cheap, its Vegas. I just can't see spending that much on casino food more than I had to. I still have yet to find a restaurant that blows me away in this city. It is probably the best food you'll get in the area but I wish they had a line for the one-platers, the ones not out to stuff themselves to get their money's worth...\n",
      "\n",
      "----------\n",
      "Cluster 4:\n",
      "    3 -  First let me say that this has been my favorite Las Vegas restaurant for several years.  That is what makes this review so difficult for me to write.  My last two trips to Delmonico's have left me looking for a new favorite.  We were there Friday night for our anniversary.  We were seated at a table that was next table a food staging area.  We had servers all around our table all night  prepping food for other diners.  It was very irritating.  The food was ok but not great.  The service was terrible.  We asked for horseradish sauce when our steaks arrived and actually got it when we were just about to finish our meals.  We actually had to look for someone to refill our drinks on several occasions.  I love this place but I will not be back.  Our bill was over $400 for 4 people and I am ok with that but we got $75 Longhorn's type service and I cannot live with that.  Sorry Delmonico's.  I am out.  Need a new favorite Vegas restaurant.  Suggestions?\n",
      "    1 -  I wish I could confidently support this place but the majority of the food was either dry, cold and lacked flavor.  The tables around us were left dirty, wrappers and paper napkins left on the floor.  I saw the A rated signs they received and I am perplexed at how and who they had visit this buffet.  Don't waste your money.  Run away if someone tells you to eat here.\n",
      "\n",
      "----------\n",
      "Cluster 5:\n",
      "    5 -  I heard a lot about 8 Noodle Bar recently and couldn't wait to try it.  I finally got the chance last week and not only was the food great, but so was the fast service! The smell of the food just kind of lures you in.  Can't wait to go back next time I'm near Red Rock!\n",
      "    3 -  As expect from the famous name, the food was delicious. However, for some reason the worker are slower at midnight. After prom me and some friends (10 total) sat down, the served us water and got our order right away. But after they brought the food, they rarely came to check up on us. I got the bonanza special that came with pancakes and I had to go up to the counter to get a bottle of syrup. Kinda mad me mad. Then we asked for refills, she kept repeating, \"I'll be right with you in a second\" for a good 25 mins. The place was not even full. But other than that, the food was very good. Maybe the workers are just tired.\n",
      "\n"
     ]
    }
   ],
   "source": [
    "np.unique(assigned_cluster)\n",
    "for i in range(kmeans.n_clusters):\n",
    "    cluster = np.arange(0, vector_documents_top_restaurant.shape[0])[assigned_cluster==i] # index of cluster\n",
    "    sample_reviews = np.random.choice(cluster, 2, replace=False)\n",
    "    print \"-\" * 10\n",
    "    print \"Cluster %d:\" % i\n",
    "    for review_index in sample_reviews:\n",
    "        print \"    %s - \" % df.ix[review_index,'stars'],\n",
    "        print \"%s\" % df.ix[review_index, 'text']\n",
    "    print"
   ]
  },
  {
   "cell_type": "markdown",
   "metadata": {},
   "source": [
    "## 3. Use PCA to reduce dimensionality"
   ]
  },
  {
   "cell_type": "markdown",
   "metadata": {},
   "source": [
    "### Stardardize features\n",
    "X_train and X_test"
   ]
  },
  {
   "cell_type": "code",
   "execution_count": 37,
   "metadata": {
    "collapsed": true
   },
   "outputs": [],
   "source": [
    "from sklearn.preprocessing import StandardScaler\n",
    "\n",
    "scaler = StandardScaler()\n",
    "X_train_scaled = scaler.fit_transform(vectors_train)\n",
    "X_test_scaled = scaler.transform(vector_test)"
   ]
  },
  {
   "cell_type": "markdown",
   "metadata": {},
   "source": [
    "### Use PCA to transform data (train and test) and get princial components"
   ]
  },
  {
   "cell_type": "code",
   "execution_count": 38,
   "metadata": {
    "collapsed": true
   },
   "outputs": [],
   "source": [
    "from sklearn.decomposition import PCA\n",
    "\n",
    "# Let's pick a n_components\n",
    "n_components = 50\n",
    "\n",
    "pca = PCA(n_components = n_components)\n",
    "X_train_pca = pca.fit_transform(X_train_scaled)\n",
    "X_test_pca = pca.transform(X_test_scaled)\n",
    "\n"
   ]
  },
  {
   "cell_type": "markdown",
   "metadata": {},
   "source": [
    "### See how much (and how much percentage of) variance the principal components explain"
   ]
  },
  {
   "cell_type": "code",
   "execution_count": 24,
   "metadata": {},
   "outputs": [
    {
     "name": "stdout",
     "output_type": "stream",
     "text": [
      "[ 38.76035837  33.47386547  31.62623632  28.96827706  28.78285951\n",
      "  27.12056198  25.8731192   21.98401983  20.73065735  19.99316154]\n"
     ]
    }
   ],
   "source": [
    "# To be implemented\n",
    "print pca.explained_variance_[:10]"
   ]
  },
  {
   "cell_type": "code",
   "execution_count": 25,
   "metadata": {},
   "outputs": [
    {
     "name": "stdout",
     "output_type": "stream",
     "text": [
      "[ 0.01144111  0.00988067  0.00933529  0.00855073  0.008496    0.00800533\n",
      "  0.00763711  0.00648915  0.00611918  0.00590149]\n"
     ]
    }
   ],
   "source": [
    "# To be implemented\n",
    "print pca.explained_variance_ratio_[:10]"
   ]
  },
  {
   "cell_type": "markdown",
   "metadata": {},
   "source": [
    "### Viz: plot proportion of variance explained with top principal components\n",
    "\n",
    "For clear display, you may start with plotting <=20 principal components"
   ]
  },
  {
   "cell_type": "code",
   "execution_count": 83,
   "metadata": {},
   "outputs": [
    {
     "data": {
      "image/png": "[encoded data removed]",
      "text/plain": [
       "<matplotlib.figure.Figure at 0xe8e8828>"
      ]
     },
     "metadata": {},
     "output_type": "display_data"
    }
   ],
   "source": [
    "n_col_to_display = 20\n",
    "\n",
    "pca_range = np.arange(n_col_to_display) + 1\n",
    "pca_names = ['PCA_%s' % i for i in pca_range]\n",
    "\n",
    "plt.figure(figsize=(10, 10))\n",
    "plt.barh(pca_range, pca.explained_variance_ratio_[:n_col_to_display], align='center')\n",
    "xticks = plt.yticks(pca_range, pca_names)\n",
    "plt.xlabel('Proportion of Variance Explained')\n",
    "\n",
    "plt.show()"
   ]
  },
  {
   "cell_type": "markdown",
   "metadata": {},
   "source": [
    "## Classifying positive/negative review with PCA preprocessing"
   ]
  },
  {
   "cell_type": "markdown",
   "metadata": {},
   "source": [
    "### Logistic Regression Classifier\n",
    "#### Use standardized tf-idf vectors as features"
   ]
  },
  {
   "cell_type": "code",
   "execution_count": 26,
   "metadata": {},
   "outputs": [
    {
     "data": {
      "text/plain": [
       "LogisticRegression(C=1.0, class_weight=None, dual=False, fit_intercept=True,\n",
       "          intercept_scaling=1, max_iter=100, multi_class='ovr', n_jobs=1,\n",
       "          penalty='l2', random_state=None, solver='liblinear', tol=0.0001,\n",
       "          verbose=0, warm_start=False)"
      ]
     },
     "execution_count": 26,
     "metadata": {},
     "output_type": "execute_result"
    }
   ],
   "source": [
    "# Build a Logistic Regression Classifier, train with standardized tf-idf vectors\n",
    "\n",
    "from sklearn.linear_model import LogisticRegression\n",
    "\n",
    "lrc = LogisticRegression()\n",
    "lrc.fit(X_train_scaled, y_train)"
   ]
  },
  {
   "cell_type": "code",
   "execution_count": 28,
   "metadata": {},
   "outputs": [
    {
     "data": {
      "text/plain": [
       "1.0"
      ]
     },
     "execution_count": 28,
     "metadata": {},
     "output_type": "execute_result"
    }
   ],
   "source": [
    "# Get score for training set\n",
    "lrc.score(X_train_scaled, y_train)"
   ]
  },
  {
   "cell_type": "code",
   "execution_count": 39,
   "metadata": {
    "scrolled": true
   },
   "outputs": [
    {
     "data": {
      "text/plain": [
       "0.69334756314478829"
      ]
     },
     "execution_count": 39,
     "metadata": {},
     "output_type": "execute_result"
    }
   ],
   "source": [
    "# Get score for test set\n",
    "#print X_test_scaled.shape\n",
    "#print y_test.shape\n",
    "lrc.score(X_test_scaled, y_test)"
   ]
  },
  {
   "cell_type": "markdown",
   "metadata": {},
   "source": [
    "#### Use (Stardardized + PCA) tf-idf vectors as features"
   ]
  },
  {
   "cell_type": "code",
   "execution_count": 41,
   "metadata": {},
   "outputs": [
    {
     "data": {
      "text/plain": [
       "LogisticRegression(C=1.0, class_weight=None, dual=False, fit_intercept=True,\n",
       "          intercept_scaling=1, max_iter=100, multi_class='ovr', n_jobs=1,\n",
       "          penalty='l2', random_state=None, solver='liblinear', tol=0.0001,\n",
       "          verbose=0, warm_start=False)"
      ]
     },
     "execution_count": 41,
     "metadata": {},
     "output_type": "execute_result"
    }
   ],
   "source": [
    "# Build a Logistic Regression Classifier, train with PCA tranformed X\n",
    "\n",
    "from sklearn.linear_model import LogisticRegression\n",
    "\n",
    "lrc = LogisticRegression()\n",
    "lrc.fit(X_train_pca, y_train)"
   ]
  },
  {
   "cell_type": "code",
   "execution_count": 43,
   "metadata": {},
   "outputs": [
    {
     "data": {
      "text/plain": [
       "0.81146179401993357"
      ]
     },
     "execution_count": 43,
     "metadata": {},
     "output_type": "execute_result"
    }
   ],
   "source": [
    "# Get score for training set\n",
    "lrc.score(X_train_pca, y_train)"
   ]
  },
  {
   "cell_type": "code",
   "execution_count": 44,
   "metadata": {},
   "outputs": [
    {
     "data": {
      "text/plain": [
       "0.74742084667378161"
      ]
     },
     "execution_count": 44,
     "metadata": {},
     "output_type": "execute_result"
    }
   ],
   "source": [
    "# Get score for test set, REMEMBER to use PCA-transformed X!\n",
    "lrc.score(X_test_pca, y_test)"
   ]
  },
  {
   "cell_type": "markdown",
   "metadata": {},
   "source": [
    "####   With PCA, the training score is lower while the test score is higher. PCA reduces the number of features in the data.  With PCA, we are able to reduce the level of overfitting."
   ]
  },
  {
   "cell_type": "markdown",
   "metadata": {},
   "source": [
    "#### You can plot the coefficients against principal components\n"
   ]
  },
  {
   "cell_type": "code",
   "execution_count": 47,
   "metadata": {},
   "outputs": [
    {
     "data": {
      "image/png": "[encoded data removed]",
      "text/plain": [
       "<matplotlib.figure.Figure at 0x15bb1240>"
      ]
     },
     "metadata": {},
     "output_type": "display_data"
    }
   ],
   "source": [
    "pca_range = np.arange(pca.n_components_) + 1\n",
    "pca_names = ['PC_%s' % i for i in pca_range]\n",
    "\n",
    "df_coeffs = pd.DataFrame(list(zip(pca_names, abs(lrc.coef_.flatten())\n",
    "                                 ))).sort_values(by=[1], ascending=False)\n",
    "df_coeffs.columns = ['PCs', 'coeff']\n",
    "\n",
    "ax = df_coeffs.plot.barh(figsize=(10, 10))\n",
    "t = np.arange(pca.n_components_)\n",
    "ax.set_yticks(t)\n",
    "ax.set_yticklabels(df_coeffs['PCs'])\n",
    "plt.show()"
   ]
  },
  {
   "cell_type": "markdown",
   "metadata": {},
   "source": [
    "### Random Forest Classifier\n",
    "#### Use standardized tf-idf vectors as features"
   ]
  },
  {
   "cell_type": "code",
   "execution_count": 48,
   "metadata": {},
   "outputs": [
    {
     "data": {
      "text/plain": [
       "RandomForestClassifier(bootstrap=True, class_weight=None, criterion='gini',\n",
       "            max_depth=None, max_features='auto', max_leaf_nodes=None,\n",
       "            min_impurity_decrease=0.0, min_impurity_split=None,\n",
       "            min_samples_leaf=3, min_samples_split=2,\n",
       "            min_weight_fraction_leaf=0.0, n_estimators=20, n_jobs=1,\n",
       "            oob_score=False, random_state=42, verbose=0, warm_start=False)"
      ]
     },
     "execution_count": 48,
     "metadata": {},
     "output_type": "execute_result"
    }
   ],
   "source": [
    "# Build a Random Forest Classifier\n",
    "\n",
    "from sklearn.ensemble import RandomForestClassifier\n",
    "\n",
    "rfc = RandomForestClassifier(max_depth=None, n_estimators=20, min_samples_leaf=3, random_state=42)\n",
    "rfc.fit(X_train_scaled, y_train)"
   ]
  },
  {
   "cell_type": "code",
   "execution_count": 50,
   "metadata": {},
   "outputs": [
    {
     "data": {
      "text/plain": [
       "0.85631229235880402"
      ]
     },
     "execution_count": 50,
     "metadata": {},
     "output_type": "execute_result"
    }
   ],
   "source": [
    "# Get score for training set\n",
    "rfc.score(X_train_scaled, y_train)"
   ]
  },
  {
   "cell_type": "code",
   "execution_count": 51,
   "metadata": {
    "scrolled": true
   },
   "outputs": [
    {
     "data": {
      "text/plain": [
       "0.78228388473852717"
      ]
     },
     "execution_count": 51,
     "metadata": {},
     "output_type": "execute_result"
    }
   ],
   "source": [
    "# Get score for test set\n",
    "rfc.score(X_test_scaled, y_test)"
   ]
  },
  {
   "cell_type": "markdown",
   "metadata": {},
   "source": [
    "#### Use (Stardardized + PCA) tf-idf vectors as features"
   ]
  },
  {
   "cell_type": "code",
   "execution_count": 52,
   "metadata": {},
   "outputs": [
    {
     "data": {
      "text/plain": [
       "RandomForestClassifier(bootstrap=True, class_weight=None, criterion='gini',\n",
       "            max_depth=None, max_features='auto', max_leaf_nodes=None,\n",
       "            min_impurity_decrease=0.0, min_impurity_split=None,\n",
       "            min_samples_leaf=3, min_samples_split=2,\n",
       "            min_weight_fraction_leaf=0.0, n_estimators=500, n_jobs=1,\n",
       "            oob_score=False, random_state=42, verbose=0, warm_start=False)"
      ]
     },
     "execution_count": 52,
     "metadata": {},
     "output_type": "execute_result"
    }
   ],
   "source": [
    "# Build a Random Forest Classifier\n",
    "\n",
    "from sklearn.ensemble import RandomForestClassifier\n",
    "\n",
    "rfc = RandomForestClassifier(max_depth=None,\n",
    "                                   n_estimators=500,\n",
    "                                   min_samples_leaf=3,\n",
    "                                   random_state=42)\n",
    "\n",
    "rfc.fit(X_train_pca, y_train)"
   ]
  },
  {
   "cell_type": "code",
   "execution_count": 53,
   "metadata": {},
   "outputs": [
    {
     "data": {
      "text/plain": [
       "0.97508305647840532"
      ]
     },
     "execution_count": 53,
     "metadata": {},
     "output_type": "execute_result"
    }
   ],
   "source": [
    "# Get score for training set\n",
    "rfc.score(X_train_pca, y_train)"
   ]
  },
  {
   "cell_type": "code",
   "execution_count": 55,
   "metadata": {},
   "outputs": [
    {
     "data": {
      "text/plain": [
       "0.77090003557452869"
      ]
     },
     "execution_count": 55,
     "metadata": {},
     "output_type": "execute_result"
    }
   ],
   "source": [
    "# Get score for test set, REMEMBER to use PCA-transformed X!\n",
    "rfc.score(X_test_pca, y_test)"
   ]
  },
  {
   "cell_type": "markdown",
   "metadata": {},
   "source": [
    "####  With PCA, random forest classifier is able to increaset the traning score while slightly lower the test score.  Because when RFC select a random set of features to split the data, PCA actually provides a set of features with more prediction power."
   ]
  },
  {
   "cell_type": "markdown",
   "metadata": {},
   "source": [
    "####  Plot the feature importances against principal components\n"
   ]
  },
  {
   "cell_type": "code",
   "execution_count": 57,
   "metadata": {},
   "outputs": [
    {
     "data": {
      "image/png": "[encoded data removed]",
      "text/plain": [
       "<matplotlib.figure.Figure at 0x33db3978>"
      ]
     },
     "metadata": {},
     "output_type": "display_data"
    }
   ],
   "source": [
    "pca_range = np.arange(pca.n_components_) + 1\n",
    "pca_names = ['PC_%s' % i for i in pca_range]\n",
    "\n",
    "df_coeffs = pd.DataFrame(list(zip(pca_names, rfc.feature_importances_))).sort_values(by=[1], ascending=False)\n",
    "df_coeffs.columns = ['PCs', 'feature importance']\n",
    "\n",
    "ax = df_coeffs.plot.barh(figsize=(10, 10))\n",
    "t = np.arange(pca.n_components_)\n",
    "ax.set_yticks(t)\n",
    "ax.set_yticklabels(df_coeffs['PCs'])\n",
    "plt.show()"
   ]
  },
  {
   "cell_type": "markdown",
   "metadata": {},
   "source": [
    "### Cluster restaurants from their category information"
   ]
  },
  {
   "cell_type": "code",
   "execution_count": 111,
   "metadata": {},
   "outputs": [
    {
     "name": "stdout",
     "output_type": "stream",
     "text": [
      "(2704L,)\n",
      "(4353L,)\n"
     ]
    },
    {
     "data": {
      "text/plain": [
       "'[Steakhouses, Restaurants, Cajun/Creole]'"
      ]
     },
     "execution_count": 111,
     "metadata": {},
     "output_type": "execute_result"
    }
   ],
   "source": [
    "categories = df.categories.copy()\n",
    "categories.index = df.business_id\n",
    "print categories.unique().shape\n",
    "print df.business_id.unique().shape\n",
    "categories.loc[df.business_id.unique()[0]][0]"
   ]
  },
  {
   "cell_type": "code",
   "execution_count": 133,
   "metadata": {},
   "outputs": [
    {
     "data": {
      "text/plain": [
       "0"
      ]
     },
     "execution_count": 133,
     "metadata": {},
     "output_type": "execute_result"
    }
   ],
   "source": [
    "sum(categories.isnull())"
   ]
  },
  {
   "cell_type": "code",
   "execution_count": 119,
   "metadata": {},
   "outputs": [
    {
     "name": "stdout",
     "output_type": "stream",
     "text": [
      "STEAKHOUSES, RESTAURANTS, CAJUN, CREOLE\n"
     ]
    }
   ],
   "source": [
    "# Clean cetegories data and create new corpus\n",
    "categories_documents = map(lambda x: categories.loc[x][0].strip('[]').upper().replace('/',', '),\n",
    "                           df.business_id.unique())\n",
    "\n",
    "print categories_documents[0]\n",
    "target = (df['stars']>4).values\n",
    "\n",
    "# Construct training and test set\n",
    "from sklearn.cross_validation import train_test_split\n",
    "X_train, X_test, y_train, y_test = train_test_split(categories_documents, target[range(4353)], \n",
    "                                                        test_size = 0.7, random_state = 42)\n",
    "# Vecotrize the documents\n",
    "from sklearn.feature_extraction.text import TfidfVectorizer\n",
    "vectorizer = TfidfVectorizer()\n",
    "\n",
    "vectors_train = vectorizer.fit_transform(X_train).toarray()\n",
    "#vectors_test = vectorizer.transform(X_test).toarray()"
   ]
  },
  {
   "cell_type": "code",
   "execution_count": 135,
   "metadata": {},
   "outputs": [
    {
     "name": "stdout",
     "output_type": "stream",
     "text": [
      "4353\n",
      "(1305L, 283L)\n"
     ]
    }
   ],
   "source": [
    "print len(categories_documents)\n",
    "print vectors_train.shape"
   ]
  },
  {
   "cell_type": "code",
   "execution_count": 121,
   "metadata": {},
   "outputs": [
    {
     "data": {
      "text/plain": [
       "KMeans(algorithm='auto', copy_x=True, init='k-means++', max_iter=300,\n",
       "    n_clusters=8, n_init=10, n_jobs=1, precompute_distances='auto',\n",
       "    random_state=None, tol=0.0001, verbose=0)"
      ]
     },
     "execution_count": 121,
     "metadata": {},
     "output_type": "execute_result"
    }
   ],
   "source": [
    "from sklearn.cluster import KMeans\n",
    "kmeans = KMeans()\n",
    "kmeans.fit(vectors_train)"
   ]
  },
  {
   "cell_type": "code",
   "execution_count": 122,
   "metadata": {},
   "outputs": [
    {
     "name": "stdout",
     "output_type": "stream",
     "text": [
      "Cluster 1: mexican restaurants fast food tex mex latin american seafood trucks\n",
      "Cluster 2: restaurants food sandwiches italian thai services steakhouses vietnamese burgers seafood\n",
      "Cluster 3: american new traditional bars nightlife restaurants sports burgers pubs sandwiches\n",
      "Cluster 4: chinese restaurants fast food thai fusion asian taiwanese sum dim\n",
      "Cluster 5: bars japanese sushi nightlife restaurants asian fusion lounges mexican sports\n",
      "Cluster 6: pizza restaurants italian wings chicken sandwiches food delis burgers salad\n",
      "Cluster 7: fast food burgers restaurants sandwiches chicken wings american traditional delis\n",
      "Cluster 8: brunch breakfast tea coffee cafes american food restaurants traditional sandwiches\n"
     ]
    }
   ],
   "source": [
    "words = vectorizer.get_feature_names()\n",
    "n_feat = 10\n",
    "top_features_idx = kmeans.cluster_centers_.argsort()[:, -1:-n_feat-1:-1]\n",
    "for i, idx in enumerate(top_features_idx):\n",
    "    print \"Cluster %i: %s\" % (i + 1, \" \".join(words[j] for j in idx))"
   ]
  },
  {
   "cell_type": "markdown",
   "metadata": {},
   "source": [
    "## Extra Credit #2: Can you try different distance/similarity metrics for clusterings, e.g. Pearson correlation, Jaccard distance, etc. \n",
    "\n",
    "Hint: You can take a look at [scipy](http://docs.scipy.org/doc/scipy/reference/generated/scipy.spatial.distance.pdist.html#scipy.spatial.distance.pdist) documentations to use other distances"
   ]
  },
  {
   "cell_type": "markdown",
   "metadata": {},
   "source": [
    "We can use different distance/similarity metrics for clustering.  However, by definition, the algorithmns are not Kmeans anymore. For example, when use Mahanttan distance, the clustering method is called K-medoids.  The critical differences are how to update the new centroids. "
   ]
  },
  {
   "cell_type": "markdown",
   "metadata": {},
   "source": [
    "#### Q: How do you compare with Cosine distance or Euclidean distance?"
   ]
  },
  {
   "cell_type": "markdown",
   "metadata": {
    "collapsed": true
   },
   "source": [
    "Cosine distance measures angle between two vectors, and the sizes of the vectors do not matter.  In Euclidean distance, the differnce in each component of the vectors determines the final distance."
   ]
  },
  {
   "cell_type": "markdown",
   "metadata": {},
   "source": [
    "## Extra Credit #3: Can you cluster categories from business entities? What does it mean by a cluster?\n",
    "Hint: Think the example where words can be clustered from the transposed tf-idf matrix."
   ]
  },
  {
   "cell_type": "code",
   "execution_count": 126,
   "metadata": {},
   "outputs": [
    {
     "data": {
      "text/plain": [
       "KMeans(algorithm='auto', copy_x=True, init='k-means++', max_iter=300,\n",
       "    n_clusters=8, n_init=10, n_jobs=1, precompute_distances='auto',\n",
       "    random_state=None, tol=0.0001, verbose=0)"
      ]
     },
     "execution_count": 126,
     "metadata": {},
     "output_type": "execute_result"
    }
   ],
   "source": [
    "from sklearn.cluster import KMeans\n",
    "kmeans = KMeans()\n",
    "kmeans.fit(vectors_train.transpose())"
   ]
  },
  {
   "cell_type": "markdown",
   "metadata": {},
   "source": [
    "Here a cluster is categories that are similar in the representation of restaurants"
   ]
  },
  {
   "cell_type": "markdown",
   "metadata": {},
   "source": [
    "## Extra Credit #4: What are the characteristics of each of the clustered  ? For each cluster, which restaurant can best represent (\"define\") its cluster?\n",
    "Hint: how to interpret \"best\"?"
   ]
  },
  {
   "cell_type": "code",
   "execution_count": 131,
   "metadata": {},
   "outputs": [
    {
     "name": "stdout",
     "output_type": "stream",
     "text": [
      "Cluster 1: Top Restaurant --9e1ONYQuAa-CB_Rrw7Tw\n",
      "Cluster 2: Top Restaurant -1vfRrlnNnNJ5boOVghMPA\n",
      "Cluster 3: Top Restaurant -3zffZUHoY8bQjGfPSoBKQ\n",
      "Cluster 4: Top Restaurant -8R_-EkGpUhBk55K9Dd4mg\n",
      "Cluster 5: Top Restaurant -9YyInW1wapzdNZrhQJ9dg\n",
      "Cluster 6: Top Restaurant -AD5PiuJHgdUcAK-Vxao2A\n",
      "Cluster 7: Top Restaurant -AGdGGCeTS-njB_8GkUmjQ\n",
      "Cluster 8: Top Restaurant -BS4aZAQm9u41YnB9MUASA\n"
     ]
    }
   ],
   "source": [
    "restaurant = df.business_id.unique()\n",
    "top_features_idx = kmeans.cluster_centers_.argsort()[:, -1]\n",
    "for i, idx in enumerate(top_features_idx):\n",
    "    print \"Cluster %i: Top Restaurant %s\" % (i + 1, restaurant[i] )"
   ]
  },
  {
   "cell_type": "markdown",
   "metadata": {
    "collapsed": true
   },
   "source": [
    "In the case of cluster categories from business entities, \"Best\" restaurant is the feature that has highest weight in the centoird vector."
   ]
  },
  {
   "cell_type": "markdown",
   "metadata": {},
   "source": [
    "## Extra Credit #5: Can you think of other use cases that clustering can be used? \n",
    "Hint: of course you can make use of other yelp dataset. You can try anything you want as long as you can explain it."
   ]
  },
  {
   "cell_type": "markdown",
   "metadata": {
    "collapsed": true
   },
   "source": [
    "We can use clustering to find restaurants that has similar rating distributions:"
   ]
  },
  {
   "cell_type": "code",
   "execution_count": 141,
   "metadata": {
    "collapsed": true
   },
   "outputs": [],
   "source": [
    "m = len(df.stars.unique())"
   ]
  },
  {
   "cell_type": "code",
   "execution_count": 197,
   "metadata": {},
   "outputs": [
    {
     "name": "stdout",
     "output_type": "stream",
     "text": [
      "(4353, 5)\n",
      "           stars\n",
      "avg_stars  1        0\n",
      "           2        0\n",
      "           3        0\n",
      "           4        0\n",
      "           5        0\n",
      "dtype: int64\n",
      "(4353L, 5L)\n"
     ]
    }
   ],
   "source": [
    "table = df.pivot_table(index = 'business_id', columns = 'stars',aggfunc = 'count')\n",
    "X = table.iloc[:, range(5)]\n",
    "print X.shape\n",
    "X = X.fillna(value =1)\n",
    "X = X.div(np.sum(X, axis = 1),axis = 0)\n",
    "print np.sum(X.isnull())\n",
    "X = X.values\n",
    "print X.shape\n",
    "\n",
    "#X = map(lambda x:  stars.loc[x].nunique()/sum(stars.loc[x].nunique()), df.business_id.unique())"
   ]
  },
  {
   "cell_type": "code",
   "execution_count": 198,
   "metadata": {
    "collapsed": true
   },
   "outputs": [],
   "source": [
    "# Construct training and test set\n",
    "from sklearn.cross_validation import train_test_split\n",
    "X_train, X_test, y_train, y_test = train_test_split(X, target[range(n)], \n",
    "                                                        test_size = 0.7, random_state = 42)"
   ]
  },
  {
   "cell_type": "code",
   "execution_count": 199,
   "metadata": {},
   "outputs": [
    {
     "data": {
      "text/plain": [
       "KMeans(algorithm='auto', copy_x=True, init='k-means++', max_iter=300,\n",
       "    n_clusters=10, n_init=10, n_jobs=1, precompute_distances='auto',\n",
       "    random_state=None, tol=0.0001, verbose=0)"
      ]
     },
     "execution_count": 199,
     "metadata": {},
     "output_type": "execute_result"
    }
   ],
   "source": [
    "from sklearn.cluster import KMeans\n",
    "kmeans = KMeans(n_clusters = 10)\n",
    "kmeans.fit(X_train)"
   ]
  },
  {
   "cell_type": "code",
   "execution_count": 200,
   "metadata": {},
   "outputs": [
    {
     "name": "stdout",
     "output_type": "stream",
     "text": [
      "Cluster 1:\n",
      " Rating distribution from 1 to 5\n",
      "[ 0.08058523  0.06884319  0.09292628  0.19216922  0.56547608]\n",
      "Cluster 1:\n",
      " Rating distribution from 1 to 5\n",
      "[ 0.33296442  0.157834    0.15198719  0.17481603  0.18239837]\n",
      "Cluster 1:\n",
      " Rating distribution from 1 to 5\n",
      "[ 0.28026648  0.11602058  0.09899113  0.14944645  0.35527536]\n",
      "Cluster 1:\n",
      " Rating distribution from 1 to 5\n",
      "[ 0.65765899  0.09253082  0.08183992  0.08194956  0.08602071]\n",
      "Cluster 1:\n",
      " Rating distribution from 1 to 5\n",
      "[ 0.09988485  0.07904815  0.11773161  0.28488083  0.41845456]\n",
      "Cluster 1:\n",
      " Rating distribution from 1 to 5\n",
      "[ 0.19866334  0.20001688  0.21180313  0.19128028  0.19823637]\n",
      "Cluster 1:\n",
      " Rating distribution from 1 to 5\n",
      "[ 0.03787868  0.03924297  0.04973631  0.13960999  0.73353204]\n",
      "Cluster 1:\n",
      " Rating distribution from 1 to 5\n",
      "[ 0.15041614  0.13046724  0.17372861  0.3322757   0.21311231]\n",
      "Cluster 1:\n",
      " Rating distribution from 1 to 5\n",
      "[ 0.14659529  0.14554854  0.15420362  0.17148429  0.38216825]\n",
      "Cluster 1:\n",
      " Rating distribution from 1 to 5\n",
      "[ 0.47108601  0.13968849  0.12016824  0.12419213  0.14486513]\n"
     ]
    }
   ],
   "source": [
    "for centroid in kmeans.cluster_centers_:\n",
    "    print \"Cluster 1:\\n Rating distribution from 1 to 5\"\n",
    "    print centroid"
   ]
  }
 ],
 "metadata": {
  "anaconda-cloud": {},
  "kernelspec": {
   "display_name": "Python 2",
   "language": "python",
   "name": "python2"
  },
  "language_info": {
   "codemirror_mode": {
    "name": "ipython",
    "version": 2
   },
   "file_extension": ".py",
   "mimetype": "text/x-python",
   "name": "python",
   "nbconvert_exporter": "python",
   "pygments_lexer": "ipython2",
   "version": "2.7.13"
  }
 },
 "nbformat": 4,
 "nbformat_minor": 1
}
